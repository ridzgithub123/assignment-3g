{
 "cells": [
  {
   "cell_type": "code",
   "execution_count": 6,
   "id": "5d13c945-9b1f-474b-80cc-a1e4326b8bdd",
   "metadata": {},
   "outputs": [
    {
     "name": "stdout",
     "output_type": "stream",
     "text": [
      "1\n",
      "3\n",
      "5\n",
      "7\n",
      "9\n",
      "11\n",
      "13\n",
      "15\n",
      "17\n",
      "19\n",
      "21\n",
      "23\n"
     ]
    }
   ],
   "source": [
    "# Q1 Which keyword is use to create a funcn?Create a funcn to return list of odd nos in the range 1 to 25.\n",
    "#def keyword is used to create a funcn.\n",
    "def odd_list():\n",
    "    for i in range(1,25):\n",
    "        if(i % 2 != 0):\n",
    "          print(i)\n",
    "    \n",
    "odd_list() \n"
   ]
  },
  {
   "cell_type": "code",
   "execution_count": 7,
   "id": "e53958ef-2b0b-4fff-af29-d4c38febb49f",
   "metadata": {},
   "outputs": [
    {
     "name": "stdout",
     "output_type": "stream",
     "text": [
      "1\n",
      "12\n",
      "23.56\n",
      "67.9\n"
     ]
    }
   ],
   "source": [
    "# Q2 Why *args and **kargs is used in some funcn ? Create a funcn each for *args and **kargs to demostrate their use.\n",
    "'''\n",
    "*args -> The special syntax *args in function definitions in Python is used to pass a variable number of arguments to a function.\n",
    "It is used to pass a non-keyworded, variable-length argument list. \n",
    "\n",
    "**kargs ->The special syntax **kwargs in function definitions in Python is used to pass a keyworded, variable-length argument list.\n",
    "We use the name kwargs with the double star.it is use to enter the data in keyvalue pair.\n",
    " \n",
    "'''\n",
    "#example of *args\n",
    "def numbers(*args):\n",
    "    for i in args:\n",
    "        print(i)\n",
    "numbers( 1 ,12, 23.56, 67.9)\n"
   ]
  },
  {
   "cell_type": "code",
   "execution_count": 12,
   "id": "e2ce087d-df34-42ce-9ca0-b6232bb4b53e",
   "metadata": {},
   "outputs": [
    {
     "name": "stdout",
     "output_type": "stream",
     "text": [
      "one blue\n",
      "two red\n",
      "three pink\n",
      "four black\n"
     ]
    }
   ],
   "source": [
    "# example of **kargs\n",
    "def pairs(**kargs):\n",
    "    for key,value in kargs.items():\n",
    "        print(key,value)\n",
    "pairs(one=\"blue\", two=\"red\", three=\"pink\", four=\"black\")"
   ]
  },
  {
   "cell_type": "code",
   "execution_count": 13,
   "id": "2754512c-b63a-46a1-ba65-5aa6cc8d0174",
   "metadata": {},
   "outputs": [
    {
     "data": {
      "text/plain": [
       "2"
      ]
     },
     "execution_count": 13,
     "metadata": {},
     "output_type": "execute_result"
    }
   ],
   "source": [
    "#Q3 What is an iterator in python?Name the method used to initilize the iterator object and the method  used for iteration .\n",
    "# Use these methods to print the first five elements of the given list[2,4,6,8,10,13,14,16,18,20]\n",
    "'''\n",
    "An iterator in Python is an object that is used to iterate over iterable objects like lists, tuples, dicts, and sets.\n",
    "The Python iterators object is initialized using the iter() method. It uses the next() method for iteration.\n",
    "'''\n",
    "l=[2,4,6,8,10,12,14,16,18,20]\n",
    "l1 = iter(l)\n",
    "next(l1)\n"
   ]
  },
  {
   "cell_type": "code",
   "execution_count": 15,
   "id": "2f613c9b-4793-4ddf-8b23-848daac14df2",
   "metadata": {},
   "outputs": [
    {
     "data": {
      "text/plain": [
       "4"
      ]
     },
     "execution_count": 15,
     "metadata": {},
     "output_type": "execute_result"
    }
   ],
   "source": [
    "next(l1)"
   ]
  },
  {
   "cell_type": "code",
   "execution_count": 16,
   "id": "0bcf32d7-ad57-4036-9c0f-6496cb78a291",
   "metadata": {},
   "outputs": [
    {
     "data": {
      "text/plain": [
       "6"
      ]
     },
     "execution_count": 16,
     "metadata": {},
     "output_type": "execute_result"
    }
   ],
   "source": [
    "next(l1)"
   ]
  },
  {
   "cell_type": "code",
   "execution_count": 17,
   "id": "30c0c6b6-1dfe-428c-bc74-b16d2bc76ae5",
   "metadata": {},
   "outputs": [
    {
     "data": {
      "text/plain": [
       "8"
      ]
     },
     "execution_count": 17,
     "metadata": {},
     "output_type": "execute_result"
    }
   ],
   "source": [
    "next(l1)\n"
   ]
  },
  {
   "cell_type": "code",
   "execution_count": 18,
   "id": "c7bf91d7-0a7c-4189-87d8-f3c9385bb234",
   "metadata": {},
   "outputs": [
    {
     "data": {
      "text/plain": [
       "10"
      ]
     },
     "execution_count": 18,
     "metadata": {},
     "output_type": "execute_result"
    }
   ],
   "source": [
    "next(l1)"
   ]
  },
  {
   "cell_type": "code",
   "execution_count": 4,
   "id": "73d82dff-34ac-49ff-bd57-b96139a09a03",
   "metadata": {},
   "outputs": [
    {
     "name": "stdout",
     "output_type": "stream",
     "text": [
      "1\n",
      "2\n",
      "3\n",
      "4\n",
      "5\n",
      "6\n",
      "7\n",
      "8\n",
      "9\n",
      "10\n"
     ]
    }
   ],
   "source": [
    "#Q4 What is an generator funcn in pthon?why yield keyword is used?Give an example of generator funcn.\n",
    "'''\n",
    "A generator-function is defined like a normal function, but whenever it needs to generate a value,\n",
    "it does so with the yield keyword rather than return.\n",
    "If the body of a def contains yield, the function automatically becomes a generator function. \n",
    "or in other words we can say a funcn which contains yield keyword is a generator funcn.\n",
    "\n",
    "yield keyword is used to create a generator function.\n",
    "It is a type of function that is memory efficient and can be used like an iterator object.\n",
    "in other words we can say it throws the value to provide output\n",
    "'''\n",
    "def generator():\n",
    "    for i in range(1,11):\n",
    "        yield i      \n",
    "for i in generator():\n",
    "    print(i)"
   ]
  },
  {
   "cell_type": "code",
   "execution_count": 1,
   "id": "a6dcf438-f11c-4f06-9749-70273b49df7c",
   "metadata": {},
   "outputs": [
    {
     "name": "stdout",
     "output_type": "stream",
     "text": [
      "2\n",
      "3\n",
      "5\n",
      "7\n",
      "11\n",
      "13\n",
      "17\n",
      "19\n",
      "23\n",
      "29\n",
      "31\n",
      "37\n",
      "41\n",
      "43\n",
      "47\n",
      "53\n",
      "59\n",
      "61\n",
      "67\n",
      "71\n"
     ]
    }
   ],
   "source": [
    "# Q5 Create generator funcn for prime nos less than 1000.use the next()method  to print first 20 prime nos.\n",
    "\n",
    "def primes():\n",
    "    yield 2\n",
    "    primes_list = [2]\n",
    "    for i in range(3, 1000):\n",
    "        is_prime = True\n",
    "        for prime in primes_list:\n",
    "            if i % prime == 0:\n",
    "                is_prime = False\n",
    "                break\n",
    "        if is_prime:\n",
    "            primes_list.append(i)\n",
    "            yield i\n",
    "\n",
    "prime_gen = primes()\n",
    "for i in range(20):\n",
    "    print(next(prime_gen))\n",
    "\n",
    "        "
   ]
  },
  {
   "cell_type": "code",
   "execution_count": 2,
   "id": "3af8d03f-89f2-4ec9-9d07-7261f42b9006",
   "metadata": {},
   "outputs": [],
   "source": [
    "# Q6 Write a python program to print  the first 10 fibbonacci numbers using while loop.\n",
    "def testfibo():\n",
    "    a,b=0,1\n",
    "    while True:\n",
    "        yield a\n",
    "        a,b=b,a+b"
   ]
  },
  {
   "cell_type": "code",
   "execution_count": 3,
   "id": "ac02d492-ed94-42bc-8f21-7da38cab9e00",
   "metadata": {},
   "outputs": [
    {
     "name": "stdout",
     "output_type": "stream",
     "text": [
      "0\n",
      "1\n",
      "1\n",
      "2\n",
      "3\n",
      "5\n",
      "8\n",
      "13\n",
      "21\n",
      "34\n"
     ]
    }
   ],
   "source": [
    "fib = testfibo() #obj fib is created \n",
    "for i in range(10):\n",
    "    print(next(fib))  # next basically print data of next index if iterator \n",
    " "
   ]
  },
  {
   "cell_type": "code",
   "execution_count": 5,
   "id": "f9b1bb54-111d-4a67-8e63-2fcc82da67e7",
   "metadata": {},
   "outputs": [
    {
     "name": "stdout",
     "output_type": "stream",
     "text": [
      "['p', 'w', 's', 'k', 'i', 'l', 'l', 's']\n"
     ]
    }
   ],
   "source": [
    "#Q7 Write a list comprehension to iterate  through the given string :'pwskills'\n",
    "#Expected output - ['p','w','s','k','i','l','l','s']\n",
    "s='pwskills'\n",
    "s1=[char for char in s]\n",
    "print(s1)"
   ]
  },
  {
   "cell_type": "code",
   "execution_count": 8,
   "id": "93cac621-fe9d-4667-919e-ed110e648bf6",
   "metadata": {},
   "outputs": [
    {
     "name": "stdin",
     "output_type": "stream",
     "text": [
      "enter a no: 313\n"
     ]
    },
    {
     "name": "stdout",
     "output_type": "stream",
     "text": [
      " the given no is palindrome no\n"
     ]
    }
   ],
   "source": [
    "#Q8  Write a python program to check whether a given no is palindrome or not by using while loop\n",
    "\n",
    "n=int(input(\"enter a no:\"))\n",
    "temp=n\n",
    "sum=0\n",
    "while(n>0):\n",
    "    r=n%10\n",
    "    sum=sum*10+r\n",
    "    n=n//10\n",
    "if(temp==sum):\n",
    "    print(\" the given no is palindrome no\") \n",
    "else:\n",
    "   print(\" the given no is not a palindrome no\")  \n",
    "\n",
    "      "
   ]
  },
  {
   "cell_type": "code",
   "execution_count": 11,
   "id": "b30d9a30-80b2-49da-b3f9-dfc467845afd",
   "metadata": {},
   "outputs": [
    {
     "name": "stdout",
     "output_type": "stream",
     "text": [
      "[1, 3, 5, 7, 9, 11, 13, 15, 17, 19, 21, 23, 25, 27, 29, 31, 33, 35, 37, 39, 41, 43, 45, 47, 49, 51, 53, 55, 57, 59, 61, 63, 65, 67, 69, 71, 73, 75, 77, 79, 81, 83, 85, 87, 89, 91, 93, 95, 97, 99]\n"
     ]
    }
   ],
   "source": [
    "#Q9 Write a python program  to print odd no from 1 to 100 using list comprehension\n",
    "oddno=[odd for odd in range(1,100) if odd%2!=0 ]\n",
    "print(oddno)"
   ]
  },
  {
   "cell_type": "code",
   "execution_count": null,
   "id": "5fc64d00-4939-4490-bcb6-5a0a67999970",
   "metadata": {},
   "outputs": [],
   "source": []
  }
 ],
 "metadata": {
  "kernelspec": {
   "display_name": "Python 3 (ipykernel)",
   "language": "python",
   "name": "python3"
  },
  "language_info": {
   "codemirror_mode": {
    "name": "ipython",
    "version": 3
   },
   "file_extension": ".py",
   "mimetype": "text/x-python",
   "name": "python",
   "nbconvert_exporter": "python",
   "pygments_lexer": "ipython3",
   "version": "3.10.8"
  }
 },
 "nbformat": 4,
 "nbformat_minor": 5
}
